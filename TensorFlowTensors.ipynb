{
  "nbformat": 4,
  "nbformat_minor": 0,
  "metadata": {
    "colab": {
      "provenance": [],
      "authorship_tag": "ABX9TyP6p8hbRzc2hnPcjfFJJXjy",
      "include_colab_link": true
    },
    "kernelspec": {
      "name": "python3",
      "display_name": "Python 3"
    },
    "language_info": {
      "name": "python"
    }
  },
  "cells": [
    {
      "cell_type": "markdown",
      "metadata": {
        "id": "view-in-github",
        "colab_type": "text"
      },
      "source": [
        "<a href=\"https://colab.research.google.com/github/alexbraic/fcc_dl/blob/main/TensorFlowTensors.ipynb\" target=\"_parent\"><img src=\"https://colab.research.google.com/assets/colab-badge.svg\" alt=\"Open In Colab\"/></a>"
      ]
    },
    {
      "cell_type": "code",
      "execution_count": 30,
      "metadata": {
        "id": "zmaKPgEwOt5W"
      },
      "outputs": [],
      "source": [
        "import tensorflow as tf\n",
        "import numpy as np"
      ]
    },
    {
      "cell_type": "code",
      "source": [
        "tensor_zero_d = tf.constant(4)\n",
        "print(tensor_zero_d)"
      ],
      "metadata": {
        "colab": {
          "base_uri": "https://localhost:8080/"
        },
        "id": "dGij_OabO1gf",
        "outputId": "8d66b5f7-0a4e-4abc-a462-bdde8d6f8c37"
      },
      "execution_count": 31,
      "outputs": [
        {
          "output_type": "stream",
          "name": "stdout",
          "text": [
            "tf.Tensor(4, shape=(), dtype=int32)\n"
          ]
        }
      ]
    },
    {
      "cell_type": "code",
      "source": [
        "tensor_one_d = tf.constant([2, 0, -3, 90, 8])\n",
        "print(tensor_one_d)"
      ],
      "metadata": {
        "colab": {
          "base_uri": "https://localhost:8080/"
        },
        "id": "D58sa4h3PI-R",
        "outputId": "bff61bfd-2e6a-4312-9b15-eddc51c59922"
      },
      "execution_count": 32,
      "outputs": [
        {
          "output_type": "stream",
          "name": "stdout",
          "text": [
            "tf.Tensor([ 2  0 -3 90  8], shape=(5,), dtype=int32)\n"
          ]
        }
      ]
    },
    {
      "cell_type": "code",
      "source": [
        "tensor_two_d = tf.constant([\n",
        "    [1, 2, 0],\n",
        "    [3, 5 ,-1],\n",
        "    [1, 5, 6],\n",
        "    [2, 3, 8]\n",
        "])\n",
        "print(tensor_two_d)"
      ],
      "metadata": {
        "colab": {
          "base_uri": "https://localhost:8080/"
        },
        "id": "22lMyvX3Phps",
        "outputId": "0346eeb3-8a8b-4719-e18c-b050cd27ac21"
      },
      "execution_count": 33,
      "outputs": [
        {
          "output_type": "stream",
          "name": "stdout",
          "text": [
            "tf.Tensor(\n",
            "[[ 1  2  0]\n",
            " [ 3  5 -1]\n",
            " [ 1  5  6]\n",
            " [ 2  3  8]], shape=(4, 3), dtype=int32)\n"
          ]
        }
      ]
    },
    {
      "cell_type": "code",
      "source": [
        "tensor_three_d = tf.constant([\n",
        "    [\n",
        "        [1, 2, 0],\n",
        "        [3, 5, -1]\n",
        "    ],\n",
        "    [\n",
        "        [10, 2, 0],\n",
        "        [1, 0, 2]\n",
        "    ],\n",
        "    [\n",
        "      [5, 8, 0],\n",
        "      [2, 7, 0]\n",
        "    ],\n",
        "    [\n",
        "        [2, 1, 9],\n",
        "        [4, -3, 32]\n",
        "    ]\n",
        "])\n",
        "print(tensor_three_d)"
      ],
      "metadata": {
        "colab": {
          "base_uri": "https://localhost:8080/"
        },
        "id": "iuLeC9ZbP4yj",
        "outputId": "9f795094-990d-4ee1-bc85-7b3109a8e0a5"
      },
      "execution_count": 34,
      "outputs": [
        {
          "output_type": "stream",
          "name": "stdout",
          "text": [
            "tf.Tensor(\n",
            "[[[ 1  2  0]\n",
            "  [ 3  5 -1]]\n",
            "\n",
            " [[10  2  0]\n",
            "  [ 1  0  2]]\n",
            "\n",
            " [[ 5  8  0]\n",
            "  [ 2  7  0]]\n",
            "\n",
            " [[ 2  1  9]\n",
            "  [ 4 -3 32]]], shape=(4, 2, 3), dtype=int32)\n"
          ]
        }
      ]
    },
    {
      "cell_type": "code",
      "source": [
        "print('Shape:', tensor_three_d.shape)\n",
        "print('Dimensions:', tensor_three_d.ndim)"
      ],
      "metadata": {
        "colab": {
          "base_uri": "https://localhost:8080/"
        },
        "id": "W8KfoAqWQzs0",
        "outputId": "8925fd99-9e95-4ee8-f497-fd383a4e1513"
      },
      "execution_count": 35,
      "outputs": [
        {
          "output_type": "stream",
          "name": "stdout",
          "text": [
            "Shape: (4, 2, 3)\n",
            "Dimensions: 3\n"
          ]
        }
      ]
    },
    {
      "cell_type": "code",
      "source": [
        "tensor_four_d = tf.constant([\n",
        "[\n",
        "    [\n",
        "        [1, 2, 0],\n",
        "        [3, 5, -1]\n",
        "    ],\n",
        "    [\n",
        "        [10, 2, 0],\n",
        "        [1, 0, 2]\n",
        "    ],\n",
        "    [\n",
        "      [5, 8, 0],\n",
        "      [2, 7, 0]\n",
        "    ],\n",
        "    [\n",
        "        [2, 1, 9],\n",
        "        [4, -3, 32]\n",
        "    ]\n",
        "],[\n",
        "    [\n",
        "        [1, 9, 0],\n",
        "        [11, -5, 4]\n",
        "    ],\n",
        "    [\n",
        "        [14, 2, 0],\n",
        "        [1, 0, 2]\n",
        "    ],\n",
        "    [\n",
        "      [5, 8, 0],\n",
        "      [2, 7, 0]\n",
        "    ],\n",
        "    [\n",
        "        [2, 22, 9],\n",
        "        [4, -3, 17]\n",
        "    ]\n",
        "],[\n",
        "[\n",
        "        [1, 2, 0],\n",
        "        [3, 5, -1]\n",
        "    ],\n",
        "    [\n",
        "        [10, 2, 0],\n",
        "        [1, 0, 2]\n",
        "    ],\n",
        "    [\n",
        "      [5, 8, 0],\n",
        "      [2, 7, 0]\n",
        "    ],\n",
        "    [\n",
        "        [2, 1, 9],\n",
        "        [4, -3, 32]\n",
        "    ]\n",
        "]])\n",
        "\n",
        "print(tensor_four_d)"
      ],
      "metadata": {
        "colab": {
          "base_uri": "https://localhost:8080/"
        },
        "id": "0oinXM2bSGr_",
        "outputId": "f30d4a7a-a6a9-406b-a46b-bb8f66bb18c0"
      },
      "execution_count": 36,
      "outputs": [
        {
          "output_type": "stream",
          "name": "stdout",
          "text": [
            "tf.Tensor(\n",
            "[[[[ 1  2  0]\n",
            "   [ 3  5 -1]]\n",
            "\n",
            "  [[10  2  0]\n",
            "   [ 1  0  2]]\n",
            "\n",
            "  [[ 5  8  0]\n",
            "   [ 2  7  0]]\n",
            "\n",
            "  [[ 2  1  9]\n",
            "   [ 4 -3 32]]]\n",
            "\n",
            "\n",
            " [[[ 1  9  0]\n",
            "   [11 -5  4]]\n",
            "\n",
            "  [[14  2  0]\n",
            "   [ 1  0  2]]\n",
            "\n",
            "  [[ 5  8  0]\n",
            "   [ 2  7  0]]\n",
            "\n",
            "  [[ 2 22  9]\n",
            "   [ 4 -3 17]]]\n",
            "\n",
            "\n",
            " [[[ 1  2  0]\n",
            "   [ 3  5 -1]]\n",
            "\n",
            "  [[10  2  0]\n",
            "   [ 1  0  2]]\n",
            "\n",
            "  [[ 5  8  0]\n",
            "   [ 2  7  0]]\n",
            "\n",
            "  [[ 2  1  9]\n",
            "   [ 4 -3 32]]]], shape=(3, 4, 2, 3), dtype=int32)\n"
          ]
        }
      ]
    },
    {
      "cell_type": "code",
      "source": [
        "print('tensor_four_d details')\n",
        "print('Shape:', tensor_four_d.shape)\n",
        "print('Dimensions:', tensor_four_d.ndim)"
      ],
      "metadata": {
        "colab": {
          "base_uri": "https://localhost:8080/"
        },
        "id": "-deIxEPvT03z",
        "outputId": "719e3d3e-57fe-490c-e23a-94f88403cc50"
      },
      "execution_count": 37,
      "outputs": [
        {
          "output_type": "stream",
          "name": "stdout",
          "text": [
            "tensor_four_d details\n",
            "Shape: (3, 4, 2, 3)\n",
            "Dimensions: 4\n"
          ]
        }
      ]
    },
    {
      "cell_type": "markdown",
      "source": [
        "# Tensor data types\n",
        "Casting a tensor to change it's data type\n",
        "Bool tensor\n",
        "String tensor\n"
      ],
      "metadata": {
        "id": "sMDYACBXWKs5"
      }
    },
    {
      "cell_type": "code",
      "source": [
        "tnsr_one_d=tf.constant([ 2,  0., -3, 90,  8], dtype=tf.float32)\n",
        "casted_tnsr_one_d = tf.cast(tnsr_one_d, dtype=tf.int16)\n",
        "casted_tnsr_one_d_to_bool = tf.cast(tnsr_one_d, dtype=tf.bool)\n",
        "tnsr_one_d_str = tf.constant([\"hellow world\", \"hi\"])\n",
        "\n",
        "print('tnsr_one_d:\\n', tnsr_one_d)\n",
        "print()\n",
        "print('casted_tnsr_one_d:\\n', casted_tnsr_one_d)\n",
        "print()\n",
        "print('casted_tnsr_one_d_to_bool:\\n', casted_tnsr_one_d_to_bool)\n",
        "print()\n",
        "print('tnsr_one_d_str:\\n', tnsr_one_d_str)"
      ],
      "metadata": {
        "colab": {
          "base_uri": "https://localhost:8080/"
        },
        "id": "vGT4AC2YVQEp",
        "outputId": "725b0783-62c5-4f68-a279-250f51218162"
      },
      "execution_count": 38,
      "outputs": [
        {
          "output_type": "stream",
          "name": "stdout",
          "text": [
            "tnsr_one_d:\n",
            " tf.Tensor([ 2.  0. -3. 90.  8.], shape=(5,), dtype=float32)\n",
            "\n",
            "casted_tnsr_one_d:\n",
            " tf.Tensor([ 2  0 -3 90  8], shape=(5,), dtype=int16)\n",
            "\n",
            "casted_tnsr_one_d_to_bool:\n",
            " tf.Tensor([ True False  True  True  True], shape=(5,), dtype=bool)\n",
            "\n",
            "tnsr_one_d_str:\n",
            " tf.Tensor([b'hellow world' b'hi'], shape=(2,), dtype=string)\n"
          ]
        }
      ]
    },
    {
      "cell_type": "code",
      "source": [
        "np_array = np.array([1, 2, 5])\n",
        "print(np_array)"
      ],
      "metadata": {
        "colab": {
          "base_uri": "https://localhost:8080/"
        },
        "id": "VIbuY0LoXrRN",
        "outputId": "ca12e0f8-121a-4baf-9849-e9ef78c67044"
      },
      "execution_count": 39,
      "outputs": [
        {
          "output_type": "stream",
          "name": "stdout",
          "text": [
            "[1 2 5]\n"
          ]
        }
      ]
    },
    {
      "cell_type": "code",
      "source": [
        "converted_tensor = tf.cast(np_array, dtype=tf.int32)\n",
        "print(converted_tensor)"
      ],
      "metadata": {
        "colab": {
          "base_uri": "https://localhost:8080/"
        },
        "id": "b9iZwG2kX5G8",
        "outputId": "6ac16425-d417-41ca-b810-a03c6458a8d7"
      },
      "execution_count": 40,
      "outputs": [
        {
          "output_type": "stream",
          "name": "stdout",
          "text": [
            "tf.Tensor([1 2 5], shape=(3,), dtype=int32)\n"
          ]
        }
      ]
    },
    {
      "cell_type": "markdown",
      "source": [
        "# Methods"
      ],
      "metadata": {
        "id": "9Onhhn_IbU_9"
      }
    },
    {
      "cell_type": "markdown",
      "source": [
        "## eye - Identity Matrix\n",
        "All elements are 0 (zero), except for the leading diagonal, populated by 1.\n",
        "Math operations can be used to modify the output of the leading diagonal.\n",
        "Changing the parameters of the method gives different tensor shapes as an output."
      ],
      "metadata": {
        "id": "ODMPwgGsYiHn"
      }
    },
    {
      "cell_type": "code",
      "source": [
        "eye_tensor = tf.eye(\n",
        "    num_rows=3,\n",
        "    num_columns=None,\n",
        "    batch_shape=[2,],\n",
        "    dtype=tf.dtypes.float32,\n",
        "    name=None\n",
        ")\n",
        "print(eye_tensor)"
      ],
      "metadata": {
        "colab": {
          "base_uri": "https://localhost:8080/"
        },
        "id": "0EteHjO9Yqud",
        "outputId": "5f834488-90a1-4bbe-fd6c-5df33f722a3a"
      },
      "execution_count": 41,
      "outputs": [
        {
          "output_type": "stream",
          "name": "stdout",
          "text": [
            "tf.Tensor(\n",
            "[[[1. 0. 0.]\n",
            "  [0. 1. 0.]\n",
            "  [0. 0. 1.]]\n",
            "\n",
            " [[1. 0. 0.]\n",
            "  [0. 1. 0.]\n",
            "  [0. 0. 1.]]], shape=(2, 3, 3), dtype=float32)\n"
          ]
        }
      ]
    },
    {
      "cell_type": "markdown",
      "source": [
        "## fill\n",
        "Creates a tensor filled with a scalar value.\n",
        "tf.fill(dims, value, name=None)"
      ],
      "metadata": {
        "id": "g4m4qbgeDws8"
      }
    },
    {
      "cell_type": "code",
      "source": [
        "fill_tensor = tf.fill(\n",
        "    [3, 4], 5, name=None\n",
        ")\n",
        "print(fill_tensor)"
      ],
      "metadata": {
        "colab": {
          "base_uri": "https://localhost:8080/"
        },
        "id": "p3v4JGIXDCxY",
        "outputId": "25827770-6a23-40b6-ca41-2b899de37856"
      },
      "execution_count": 42,
      "outputs": [
        {
          "output_type": "stream",
          "name": "stdout",
          "text": [
            "tf.Tensor(\n",
            "[[5 5 5 5]\n",
            " [5 5 5 5]\n",
            " [5 5 5 5]], shape=(3, 4), dtype=int32)\n"
          ]
        }
      ]
    },
    {
      "cell_type": "markdown",
      "source": [
        "## ones\n",
        "Creates a tensor with all elements set to one (1)"
      ],
      "metadata": {
        "id": "Ru2ALbsbEcIp"
      }
    },
    {
      "cell_type": "code",
      "source": [
        "ones_tensor = tf.ones(\n",
        "    [5, 3, 2],\n",
        "    dtype=tf.dtypes.float32,\n",
        "    name=None\n",
        ")\n",
        "print(ones_tensor)"
      ],
      "metadata": {
        "colab": {
          "base_uri": "https://localhost:8080/"
        },
        "id": "OXmrRjzlEofk",
        "outputId": "80a337e2-f286-42b1-d1b3-48a3e19c70fd"
      },
      "execution_count": 43,
      "outputs": [
        {
          "output_type": "stream",
          "name": "stdout",
          "text": [
            "tf.Tensor(\n",
            "[[[1. 1.]\n",
            "  [1. 1.]\n",
            "  [1. 1.]]\n",
            "\n",
            " [[1. 1.]\n",
            "  [1. 1.]\n",
            "  [1. 1.]]\n",
            "\n",
            " [[1. 1.]\n",
            "  [1. 1.]\n",
            "  [1. 1.]]\n",
            "\n",
            " [[1. 1.]\n",
            "  [1. 1.]\n",
            "  [1. 1.]]\n",
            "\n",
            " [[1. 1.]\n",
            "  [1. 1.]\n",
            "  [1. 1.]]], shape=(5, 3, 2), dtype=float32)\n"
          ]
        }
      ]
    },
    {
      "cell_type": "markdown",
      "source": [
        "## ones_like\n",
        "Creates a tensor that has the same shape as the input."
      ],
      "metadata": {
        "id": "5iguEJmBFPvH"
      }
    },
    {
      "cell_type": "code",
      "source": [
        "onelike_tensor = tf.ones_like(fill_tensor)\n",
        "print(onelike_tensor)"
      ],
      "metadata": {
        "colab": {
          "base_uri": "https://localhost:8080/"
        },
        "id": "HURsESVFFPEf",
        "outputId": "fd49e18a-90c0-448d-862d-5740788c2e02"
      },
      "execution_count": 44,
      "outputs": [
        {
          "output_type": "stream",
          "name": "stdout",
          "text": [
            "tf.Tensor(\n",
            "[[1 1 1 1]\n",
            " [1 1 1 1]\n",
            " [1 1 1 1]], shape=(3, 4), dtype=int32)\n"
          ]
        }
      ]
    },
    {
      "cell_type": "markdown",
      "source": [
        "## zeros\n",
        "Creates a tensor with all elements set to zero (0)"
      ],
      "metadata": {
        "id": "-xkLG2dtGcPd"
      }
    },
    {
      "cell_type": "code",
      "source": [
        "zeros_tensor = tf.zeros(\n",
        "    [5, 3, 2],\n",
        "    dtype=tf.dtypes.float32,\n",
        "    name=None\n",
        ")\n",
        "print(zeros_tensor)"
      ],
      "metadata": {
        "colab": {
          "base_uri": "https://localhost:8080/"
        },
        "id": "F3zSl2ATGbad",
        "outputId": "06f9a473-798e-4fa0-8b01-23799580ed35"
      },
      "execution_count": 45,
      "outputs": [
        {
          "output_type": "stream",
          "name": "stdout",
          "text": [
            "tf.Tensor(\n",
            "[[[0. 0.]\n",
            "  [0. 0.]\n",
            "  [0. 0.]]\n",
            "\n",
            " [[0. 0.]\n",
            "  [0. 0.]\n",
            "  [0. 0.]]\n",
            "\n",
            " [[0. 0.]\n",
            "  [0. 0.]\n",
            "  [0. 0.]]\n",
            "\n",
            " [[0. 0.]\n",
            "  [0. 0.]\n",
            "  [0. 0.]]\n",
            "\n",
            " [[0. 0.]\n",
            "  [0. 0.]\n",
            "  [0. 0.]]], shape=(5, 3, 2), dtype=float32)\n"
          ]
        }
      ]
    },
    {
      "cell_type": "markdown",
      "source": [
        "## rank"
      ],
      "metadata": {
        "id": "9dWgibVpG_vL"
      }
    },
    {
      "cell_type": "code",
      "source": [
        "t = tf.constant([[1, 1, 1], [2, 2, 2], [3, 3, 3]])\n",
        "print(tf.rank(t))"
      ],
      "metadata": {
        "colab": {
          "base_uri": "https://localhost:8080/"
        },
        "id": "fSg-2bQfG26R",
        "outputId": "2a59a370-fac5-40ca-a809-28130554970c"
      },
      "execution_count": 46,
      "outputs": [
        {
          "output_type": "stream",
          "name": "stdout",
          "text": [
            "tf.Tensor(2, shape=(), dtype=int32)\n"
          ]
        }
      ]
    },
    {
      "cell_type": "markdown",
      "source": [
        "## size\n",
        "Returns a 0-D tensor (scalar) that represents the number of elements in input, of type out_type (default=tf.int32)."
      ],
      "metadata": {
        "id": "NeXBUBTsHXLC"
      }
    },
    {
      "cell_type": "code",
      "source": [
        "s = tf.size(t)\n",
        "print(s)"
      ],
      "metadata": {
        "colab": {
          "base_uri": "https://localhost:8080/"
        },
        "id": "pVhSirLRHZcw",
        "outputId": "de8e781c-0903-4241-b788-42f8345fe6b1"
      },
      "execution_count": 47,
      "outputs": [
        {
          "output_type": "stream",
          "name": "stdout",
          "text": [
            "tf.Tensor(9, shape=(), dtype=int32)\n"
          ]
        }
      ]
    },
    {
      "cell_type": "markdown",
      "source": [
        "## tf.random\n",
        "Ouputs values from a normal distribution."
      ],
      "metadata": {
        "id": "R_YyuW0_LBA9"
      }
    },
    {
      "cell_type": "code",
      "source": [
        "random_tensor = tf.random.normal(\n",
        "    [3, 2],\n",
        "    mean=1.0,\n",
        "    stddev=1.0,\n",
        "    dtype=tf.dtypes.float32,\n",
        "    seed=None,\n",
        "    name=None\n",
        ")\n",
        "print(random_tensor)"
      ],
      "metadata": {
        "colab": {
          "base_uri": "https://localhost:8080/"
        },
        "id": "GafJsy-8LLMV",
        "outputId": "799e187e-0791-4e97-db1d-7a998d5de8b6"
      },
      "execution_count": 48,
      "outputs": [
        {
          "output_type": "stream",
          "name": "stdout",
          "text": [
            "tf.Tensor(\n",
            "[[ 1.4580096  0.9242468]\n",
            " [ 1.4416916 -0.201244 ]\n",
            " [ 1.8850069  0.6834576]], shape=(3, 2), dtype=float32)\n"
          ]
        }
      ]
    },
    {
      "cell_type": "code",
      "source": [
        "rand_uni_tensor = tf.random.uniform(\n",
        "    [5,],\n",
        "    minval=0,\n",
        "    maxval=None,\n",
        "    dtype=tf.dtypes.float32,\n",
        "    seed=None,\n",
        "    name=None\n",
        ")\n",
        "print(rand_uni_tensor)"
      ],
      "metadata": {
        "colab": {
          "base_uri": "https://localhost:8080/"
        },
        "id": "gFoIcctaL82p",
        "outputId": "48a86651-422e-4579-a705-f6eb10707518"
      },
      "execution_count": 49,
      "outputs": [
        {
          "output_type": "stream",
          "name": "stdout",
          "text": [
            "tf.Tensor([0.24414396 0.33292735 0.15989411 0.77675784 0.9952092 ], shape=(5,), dtype=float32)\n"
          ]
        }
      ]
    },
    {
      "cell_type": "markdown",
      "source": [
        "# Initialization and casting indexing\n",
        "1:07:40"
      ],
      "metadata": {
        "id": "ZU5iKI-WPSAx"
      }
    },
    {
      "cell_type": "code",
      "source": [
        "tensor_indexed = tf.constant([3,6,2,4,6,66,7])\n",
        "print(tensor_indexed)\n",
        "print(tensor_indexed[0:4])\n",
        "print(tensor_indexed[1:5+1])\n",
        "print()\n",
        "print('Note: Add steps using minindex:maxindex:step')\n",
        "print(tensor_indexed[0:4:2])\n",
        "print()\n",
        "print('Note: Two colons [::] outputs the whole tensor')\n",
        "print(tensor_indexed[::])\n",
        "print()\n",
        "print('Note: [-1::] prints the reversed tensor')\n",
        "print(tensor_indexed[::-1])\n",
        "print(tensor_indexed)"
      ],
      "metadata": {
        "id": "T7MkzXhZPRLC",
        "colab": {
          "base_uri": "https://localhost:8080/"
        },
        "outputId": "bec6cbf6-5f7a-4d40-f12d-b1e801470cb3"
      },
      "execution_count": 50,
      "outputs": [
        {
          "output_type": "stream",
          "name": "stdout",
          "text": [
            "tf.Tensor([ 3  6  2  4  6 66  7], shape=(7,), dtype=int32)\n",
            "tf.Tensor([3 6 2 4], shape=(4,), dtype=int32)\n",
            "tf.Tensor([ 6  2  4  6 66], shape=(5,), dtype=int32)\n",
            "\n",
            "Note: Add steps using minindex:maxindex:step\n",
            "tf.Tensor([3 2], shape=(2,), dtype=int32)\n",
            "\n",
            "Note: Two colons [::] outputs the whole tensor\n",
            "tf.Tensor([ 3  6  2  4  6 66  7], shape=(7,), dtype=int32)\n",
            "\n",
            "Note: [-1::] prints the reversed tensor\n",
            "tf.Tensor([ 7 66  6  4  2  6  3], shape=(7,), dtype=int32)\n",
            "tf.Tensor([ 3  6  2  4  6 66  7], shape=(7,), dtype=int32)\n"
          ]
        }
      ]
    },
    {
      "cell_type": "code",
      "source": [
        "print(tensor_two_d)\n",
        "print()\n",
        "print(tensor_two_d[:3, :2])\n",
        "print()\n",
        "print(tensor_two_d[ :, 0])"
      ],
      "metadata": {
        "colab": {
          "base_uri": "https://localhost:8080/"
        },
        "id": "BVrz6g4iFDa4",
        "outputId": "16d2728e-44d2-449f-91d5-e2a15b57b862"
      },
      "execution_count": 66,
      "outputs": [
        {
          "output_type": "stream",
          "name": "stdout",
          "text": [
            "tf.Tensor(\n",
            "[[ 1  2  0]\n",
            " [ 3  5 -1]\n",
            " [ 1  5  6]\n",
            " [ 2  3  8]], shape=(4, 3), dtype=int32)\n",
            "\n",
            "tf.Tensor(\n",
            "[[1 2]\n",
            " [3 5]\n",
            " [1 5]], shape=(3, 2), dtype=int32)\n",
            "\n",
            "tf.Tensor([1 3 1 2], shape=(4,), dtype=int32)\n"
          ]
        }
      ]
    }
  ]
}