{
  "nbformat": 4,
  "nbformat_minor": 0,
  "metadata": {
    "colab": {
      "provenance": [],
      "authorship_tag": "ABX9TyM4KW2qZIayzO1oBXDwhgYV"
    },
    "kernelspec": {
      "name": "python3",
      "display_name": "Python 3"
    },
    "language_info": {
      "name": "python"
    }
  },
  "cells": [
    {
      "cell_type": "code",
      "execution_count": 4,
      "metadata": {
        "id": "zmaKPgEwOt5W"
      },
      "outputs": [],
      "source": [
        "import tensorflow as tf"
      ]
    },
    {
      "cell_type": "code",
      "source": [
        "tensor_zero_d = tf.constant(4)\n",
        "print(tensor_zero_d)"
      ],
      "metadata": {
        "colab": {
          "base_uri": "https://localhost:8080/"
        },
        "id": "dGij_OabO1gf",
        "outputId": "eaa0c3c1-daf9-48c8-95dc-909ce09b9410"
      },
      "execution_count": 5,
      "outputs": [
        {
          "output_type": "stream",
          "name": "stdout",
          "text": [
            "tf.Tensor(4, shape=(), dtype=int32)\n"
          ]
        }
      ]
    },
    {
      "cell_type": "code",
      "source": [
        "tensor_one_d = tf.constant([2, 0, -3, 90, 8])\n",
        "print(tensor_one_d)"
      ],
      "metadata": {
        "colab": {
          "base_uri": "https://localhost:8080/"
        },
        "id": "D58sa4h3PI-R",
        "outputId": "82a3c7f3-233a-4018-efa9-48ee7099d4df"
      },
      "execution_count": 9,
      "outputs": [
        {
          "output_type": "stream",
          "name": "stdout",
          "text": [
            "tf.Tensor([ 2  0 -3 90  8], shape=(5,), dtype=int32)\n"
          ]
        }
      ]
    },
    {
      "cell_type": "code",
      "source": [
        "tensor_two_d = tf.constant([\n",
        "    [1, 2, 0],\n",
        "    [3, 5 ,-1],\n",
        "    [1, 5, 6],\n",
        "    [2, 3, 8]\n",
        "])\n",
        "print(tensor_two_d)"
      ],
      "metadata": {
        "colab": {
          "base_uri": "https://localhost:8080/"
        },
        "id": "22lMyvX3Phps",
        "outputId": "b2ec86cf-93aa-42d1-98c5-35383fe0f53b"
      },
      "execution_count": 10,
      "outputs": [
        {
          "output_type": "stream",
          "name": "stdout",
          "text": [
            "tf.Tensor(\n",
            "[[ 1  2  0]\n",
            " [ 3  5 -1]\n",
            " [ 1  5  6]\n",
            " [ 2  3  8]], shape=(4, 3), dtype=int32)\n"
          ]
        }
      ]
    },
    {
      "cell_type": "code",
      "source": [
        "tensor_three_d = tf.constant([\n",
        "    [\n",
        "        [1, 2, 0],\n",
        "        [3, 5, -1]\n",
        "    ],\n",
        "    [\n",
        "        [10, 2, 0],\n",
        "        [1, 0, 2]\n",
        "    ],\n",
        "    [\n",
        "      [5, 8, 0],\n",
        "      [2, 7, 0]  \n",
        "    ],\n",
        "    [\n",
        "        [2, 1, 9],\n",
        "        [4, -3, 32]\n",
        "    ]\n",
        "])\n",
        "print(tensor_three_d)"
      ],
      "metadata": {
        "colab": {
          "base_uri": "https://localhost:8080/"
        },
        "id": "iuLeC9ZbP4yj",
        "outputId": "d743a0e1-a1ae-41a1-db63-8dea630ea83b"
      },
      "execution_count": 11,
      "outputs": [
        {
          "output_type": "stream",
          "name": "stdout",
          "text": [
            "tf.Tensor(\n",
            "[[[ 1  2  0]\n",
            "  [ 3  5 -1]]\n",
            "\n",
            " [[10  2  0]\n",
            "  [ 1  0  2]]\n",
            "\n",
            " [[ 5  8  0]\n",
            "  [ 2  7  0]]\n",
            "\n",
            " [[ 2  1  9]\n",
            "  [ 4 -3 32]]], shape=(4, 2, 3), dtype=int32)\n"
          ]
        }
      ]
    },
    {
      "cell_type": "code",
      "source": [
        "print('Shape:', tensor_three_d.shape)\n",
        "print('Dimensions:', tensor_three_d.ndim)"
      ],
      "metadata": {
        "colab": {
          "base_uri": "https://localhost:8080/"
        },
        "id": "W8KfoAqWQzs0",
        "outputId": "c166c6d5-536e-45c5-8fb1-81d5450d9a2f"
      },
      "execution_count": 15,
      "outputs": [
        {
          "output_type": "stream",
          "name": "stdout",
          "text": [
            "Shape: (4, 2, 3)\n",
            "Dimensions: 3\n"
          ]
        }
      ]
    },
    {
      "cell_type": "code",
      "source": [
        "tensor_four_d = tf.constant([\n",
        "[\n",
        "    [\n",
        "        [1, 2, 0],\n",
        "        [3, 5, -1]\n",
        "    ],\n",
        "    [\n",
        "        [10, 2, 0],\n",
        "        [1, 0, 2]\n",
        "    ],\n",
        "    [\n",
        "      [5, 8, 0],\n",
        "      [2, 7, 0]  \n",
        "    ],\n",
        "    [\n",
        "        [2, 1, 9],\n",
        "        [4, -3, 32]\n",
        "    ]\n",
        "],[\n",
        "    [\n",
        "        [1, 9, 0],\n",
        "        [11, -5, 4]\n",
        "    ],\n",
        "    [\n",
        "        [14, 2, 0],\n",
        "        [1, 0, 2]\n",
        "    ],\n",
        "    [\n",
        "      [5, 8, 0],\n",
        "      [2, 7, 0]  \n",
        "    ],\n",
        "    [\n",
        "        [2, 22, 9],\n",
        "        [4, -3, 17]\n",
        "    ]\n",
        "],[\n",
        "[\n",
        "        [1, 2, 0],\n",
        "        [3, 5, -1]\n",
        "    ],\n",
        "    [\n",
        "        [10, 2, 0],\n",
        "        [1, 0, 2]\n",
        "    ],\n",
        "    [\n",
        "      [5, 8, 0],\n",
        "      [2, 7, 0]  \n",
        "    ],\n",
        "    [\n",
        "        [2, 1, 9],\n",
        "        [4, -3, 32]\n",
        "    ]\n",
        "]])\n",
        "\n",
        "print(tensor_four_d)"
      ],
      "metadata": {
        "colab": {
          "base_uri": "https://localhost:8080/"
        },
        "id": "0oinXM2bSGr_",
        "outputId": "b9d6b799-1904-4441-f0c2-0985b62192cb"
      },
      "execution_count": 19,
      "outputs": [
        {
          "output_type": "stream",
          "name": "stdout",
          "text": [
            "tf.Tensor(\n",
            "[[[[ 1  2  0]\n",
            "   [ 3  5 -1]]\n",
            "\n",
            "  [[10  2  0]\n",
            "   [ 1  0  2]]\n",
            "\n",
            "  [[ 5  8  0]\n",
            "   [ 2  7  0]]\n",
            "\n",
            "  [[ 2  1  9]\n",
            "   [ 4 -3 32]]]\n",
            "\n",
            "\n",
            " [[[ 1  9  0]\n",
            "   [11 -5  4]]\n",
            "\n",
            "  [[14  2  0]\n",
            "   [ 1  0  2]]\n",
            "\n",
            "  [[ 5  8  0]\n",
            "   [ 2  7  0]]\n",
            "\n",
            "  [[ 2 22  9]\n",
            "   [ 4 -3 17]]]\n",
            "\n",
            "\n",
            " [[[ 1  2  0]\n",
            "   [ 3  5 -1]]\n",
            "\n",
            "  [[10  2  0]\n",
            "   [ 1  0  2]]\n",
            "\n",
            "  [[ 5  8  0]\n",
            "   [ 2  7  0]]\n",
            "\n",
            "  [[ 2  1  9]\n",
            "   [ 4 -3 32]]]], shape=(3, 4, 2, 3), dtype=int32)\n"
          ]
        }
      ]
    },
    {
      "cell_type": "code",
      "source": [
        "print('tensor_four_d details')\n",
        "print('Shape:', tensor_four_d.shape)\n",
        "print('Dimensions:', tensor_four_d.ndim)"
      ],
      "metadata": {
        "colab": {
          "base_uri": "https://localhost:8080/"
        },
        "id": "-deIxEPvT03z",
        "outputId": "5e7ee5f9-d9a6-4ec7-bbc4-7efa5b323eeb"
      },
      "execution_count": 23,
      "outputs": [
        {
          "output_type": "stream",
          "name": "stdout",
          "text": [
            "tensor_four_d details\n",
            "Shape: (3, 4, 2, 3)\n",
            "Dimensions: 4\n"
          ]
        }
      ]
    },
    {
      "cell_type": "markdown",
      "source": [
        "# Tensor data types\n",
        "Casting a tensor to change it's data type   \n",
        "Bool tensor   \n",
        "String tensor\n"
      ],
      "metadata": {
        "id": "sMDYACBXWKs5"
      }
    },
    {
      "cell_type": "code",
      "source": [
        "tnsr_one_d=tf.constant([ 2,  0., -3, 90,  8], dtype=tf.float32)\n",
        "casted_tnsr_one_d = tf.cast(tnsr_one_d, dtype=tf.int16)\n",
        "casted_tnsr_one_d_to_bool = tf.cast(tnsr_one_d, dtype=tf.bool)\n",
        "tnsr_one_d_str = tf.constant([\"hellow world\", \"hi\"])\n",
        "\n",
        "print('tnsr_one_d:\\n', tnsr_one_d)\n",
        "print()\n",
        "print('casted_tnsr_one_d:\\n', casted_tnsr_one_d)\n",
        "print()\n",
        "print('casted_tnsr_one_d_to_bool:\\n', casted_tnsr_one_d_to_bool)\n",
        "print()\n",
        "print('tnsr_one_d_str:\\n', tnsr_one_d_str)"
      ],
      "metadata": {
        "colab": {
          "base_uri": "https://localhost:8080/"
        },
        "id": "vGT4AC2YVQEp",
        "outputId": "0d5812c9-645d-40ba-cb34-8736d05f5a3c"
      },
      "execution_count": 32,
      "outputs": [
        {
          "output_type": "stream",
          "name": "stdout",
          "text": [
            "tnsr_one_d:\n",
            " tf.Tensor([ 2.  0. -3. 90.  8.], shape=(5,), dtype=float32)\n",
            "\n",
            "casted_tnsr_one_d:\n",
            " tf.Tensor([ 2  0 -3 90  8], shape=(5,), dtype=int16)\n",
            "\n",
            "casted_tnsr_one_d_to_bool:\n",
            " tf.Tensor([ True False  True  True  True], shape=(5,), dtype=bool)\n",
            "\n",
            "tnsr_one_d_str:\n",
            " tf.Tensor([b'hellow world' b'hi'], shape=(2,), dtype=string)\n"
          ]
        }
      ]
    },
    {
      "cell_type": "code",
      "source": [
        "import numpy as np"
      ],
      "metadata": {
        "id": "9Wvk-UwJWaZP"
      },
      "execution_count": 33,
      "outputs": []
    },
    {
      "cell_type": "code",
      "source": [
        "np_array = np.array([1, 2, 5])\n",
        "print(np_array)"
      ],
      "metadata": {
        "colab": {
          "base_uri": "https://localhost:8080/"
        },
        "id": "VIbuY0LoXrRN",
        "outputId": "f8cf8306-4a97-49ba-8960-07fc589a12fa"
      },
      "execution_count": 34,
      "outputs": [
        {
          "output_type": "stream",
          "name": "stdout",
          "text": [
            "[1 2 5]\n"
          ]
        }
      ]
    },
    {
      "cell_type": "code",
      "source": [
        "converted_tensor = tf.cast(np_array, dtype=tf.int32)\n",
        "print(converted_tensor)"
      ],
      "metadata": {
        "colab": {
          "base_uri": "https://localhost:8080/"
        },
        "id": "b9iZwG2kX5G8",
        "outputId": "be4e75e9-0858-4176-a1df-78cebed51981"
      },
      "execution_count": 35,
      "outputs": [
        {
          "output_type": "stream",
          "name": "stdout",
          "text": [
            "tf.Tensor([1 2 5], shape=(3,), dtype=int32)\n"
          ]
        }
      ]
    },
    {
      "cell_type": "markdown",
      "source": [
        "# Methods"
      ],
      "metadata": {
        "id": "9Onhhn_IbU_9"
      }
    },
    {
      "cell_type": "markdown",
      "source": [
        "## eye - Identity Matrix\n",
        "All elements are 0 (zero), except for the leading diagonal, populated by 1.   \n",
        "Math operations can be used to modify the output of the leading diagonal.   \n",
        "Changing the parameters of the method gives different tensor shapes as an output."
      ],
      "metadata": {
        "id": "ODMPwgGsYiHn"
      }
    },
    {
      "cell_type": "code",
      "source": [
        "eye_tensor = tf.eye(\n",
        "    num_rows=3,\n",
        "    num_columns=None,\n",
        "    batch_shape=[2,],\n",
        "    dtype=tf.dtypes.float32,\n",
        "    name=None\n",
        ")\n",
        "print(eye_tensor)"
      ],
      "metadata": {
        "colab": {
          "base_uri": "https://localhost:8080/"
        },
        "id": "0EteHjO9Yqud",
        "outputId": "579bc56a-4f71-4706-a7c5-b71470845639"
      },
      "execution_count": 40,
      "outputs": [
        {
          "output_type": "stream",
          "name": "stdout",
          "text": [
            "tf.Tensor(\n",
            "[[[1. 0. 0.]\n",
            "  [0. 1. 0.]\n",
            "  [0. 0. 1.]]\n",
            "\n",
            " [[1. 0. 0.]\n",
            "  [0. 1. 0.]\n",
            "  [0. 0. 1.]]], shape=(2, 3, 3), dtype=float32)\n"
          ]
        }
      ]
    }
  ]
}