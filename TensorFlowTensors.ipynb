{
  "nbformat": 4,
  "nbformat_minor": 0,
  "metadata": {
    "colab": {
      "provenance": [],
      "authorship_tag": "ABX9TyP0g7L2JqAXEvVOBIYF4jsf"
    },
    "kernelspec": {
      "name": "python3",
      "display_name": "Python 3"
    },
    "language_info": {
      "name": "python"
    }
  },
  "cells": [
    {
      "cell_type": "code",
      "execution_count": 4,
      "metadata": {
        "id": "zmaKPgEwOt5W"
      },
      "outputs": [],
      "source": [
        "import tensorflow as tf"
      ]
    },
    {
      "cell_type": "code",
      "source": [
        "tensor_zero_d = tf.constant(4)\n",
        "print(tensor_zero_d)"
      ],
      "metadata": {
        "colab": {
          "base_uri": "https://localhost:8080/"
        },
        "id": "dGij_OabO1gf",
        "outputId": "eaa0c3c1-daf9-48c8-95dc-909ce09b9410"
      },
      "execution_count": 5,
      "outputs": [
        {
          "output_type": "stream",
          "name": "stdout",
          "text": [
            "tf.Tensor(4, shape=(), dtype=int32)\n"
          ]
        }
      ]
    },
    {
      "cell_type": "code",
      "source": [
        "tensor_one_d = tf.constant([2, 0, -3, 90, 8])\n",
        "print(tensor_one_d)"
      ],
      "metadata": {
        "colab": {
          "base_uri": "https://localhost:8080/"
        },
        "id": "D58sa4h3PI-R",
        "outputId": "82a3c7f3-233a-4018-efa9-48ee7099d4df"
      },
      "execution_count": 9,
      "outputs": [
        {
          "output_type": "stream",
          "name": "stdout",
          "text": [
            "tf.Tensor([ 2  0 -3 90  8], shape=(5,), dtype=int32)\n"
          ]
        }
      ]
    },
    {
      "cell_type": "code",
      "source": [
        "tensor_two_d = tf.constant([\n",
        "    [1, 2, 0],\n",
        "    [3, 5 ,-1],\n",
        "    [1, 5, 6],\n",
        "    [2, 3, 8]\n",
        "])\n",
        "print(tensor_two_d)"
      ],
      "metadata": {
        "colab": {
          "base_uri": "https://localhost:8080/"
        },
        "id": "22lMyvX3Phps",
        "outputId": "b2ec86cf-93aa-42d1-98c5-35383fe0f53b"
      },
      "execution_count": 10,
      "outputs": [
        {
          "output_type": "stream",
          "name": "stdout",
          "text": [
            "tf.Tensor(\n",
            "[[ 1  2  0]\n",
            " [ 3  5 -1]\n",
            " [ 1  5  6]\n",
            " [ 2  3  8]], shape=(4, 3), dtype=int32)\n"
          ]
        }
      ]
    },
    {
      "cell_type": "code",
      "source": [
        "tensor_three_d = tf.constant([\n",
        "    [\n",
        "        [1, 2, 0],\n",
        "        [3, 5, -1]\n",
        "    ],\n",
        "    [\n",
        "        [10, 2, 0],\n",
        "        [1, 0, 2]\n",
        "    ],\n",
        "    [\n",
        "      [5, 8, 0],\n",
        "      [2, 7, 0]  \n",
        "    ],\n",
        "    [\n",
        "        [2, 1, 9],\n",
        "        [4, -3, 32]\n",
        "    ]\n",
        "])\n",
        "print(tensor_three_d)"
      ],
      "metadata": {
        "colab": {
          "base_uri": "https://localhost:8080/"
        },
        "id": "iuLeC9ZbP4yj",
        "outputId": "d743a0e1-a1ae-41a1-db63-8dea630ea83b"
      },
      "execution_count": 11,
      "outputs": [
        {
          "output_type": "stream",
          "name": "stdout",
          "text": [
            "tf.Tensor(\n",
            "[[[ 1  2  0]\n",
            "  [ 3  5 -1]]\n",
            "\n",
            " [[10  2  0]\n",
            "  [ 1  0  2]]\n",
            "\n",
            " [[ 5  8  0]\n",
            "  [ 2  7  0]]\n",
            "\n",
            " [[ 2  1  9]\n",
            "  [ 4 -3 32]]], shape=(4, 2, 3), dtype=int32)\n"
          ]
        }
      ]
    },
    {
      "cell_type": "code",
      "source": [
        "print('Shape:', tensor_three_d.shape)\n",
        "print('Dimensions:', tensor_three_d.ndim)"
      ],
      "metadata": {
        "colab": {
          "base_uri": "https://localhost:8080/"
        },
        "id": "W8KfoAqWQzs0",
        "outputId": "c166c6d5-536e-45c5-8fb1-81d5450d9a2f"
      },
      "execution_count": 15,
      "outputs": [
        {
          "output_type": "stream",
          "name": "stdout",
          "text": [
            "Shape: (4, 2, 3)\n",
            "Dimensions: 3\n"
          ]
        }
      ]
    }
  ]
}