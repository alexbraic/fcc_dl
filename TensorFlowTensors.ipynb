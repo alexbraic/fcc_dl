{
  "nbformat": 4,
  "nbformat_minor": 0,
  "metadata": {
    "colab": {
      "provenance": [],
      "authorship_tag": "ABX9TyOjB7T/CoVUG6Ylcy+A5id6"
    },
    "kernelspec": {
      "name": "python3",
      "display_name": "Python 3"
    },
    "language_info": {
      "name": "python"
    }
  },
  "cells": [
    {
      "cell_type": "code",
      "execution_count": 13,
      "metadata": {
        "id": "zmaKPgEwOt5W"
      },
      "outputs": [],
      "source": [
        "import tensorflow as tf\n",
        "import numpy as np"
      ]
    },
    {
      "cell_type": "code",
      "source": [
        "tensor_zero_d = tf.constant(4)\n",
        "print(tensor_zero_d)"
      ],
      "metadata": {
        "colab": {
          "base_uri": "https://localhost:8080/"
        },
        "id": "dGij_OabO1gf",
        "outputId": "eaa0c3c1-daf9-48c8-95dc-909ce09b9410"
      },
      "execution_count": null,
      "outputs": [
        {
          "output_type": "stream",
          "name": "stdout",
          "text": [
            "tf.Tensor(4, shape=(), dtype=int32)\n"
          ]
        }
      ]
    },
    {
      "cell_type": "code",
      "source": [
        "tensor_one_d = tf.constant([2, 0, -3, 90, 8])\n",
        "print(tensor_one_d)"
      ],
      "metadata": {
        "colab": {
          "base_uri": "https://localhost:8080/"
        },
        "id": "D58sa4h3PI-R",
        "outputId": "82a3c7f3-233a-4018-efa9-48ee7099d4df"
      },
      "execution_count": null,
      "outputs": [
        {
          "output_type": "stream",
          "name": "stdout",
          "text": [
            "tf.Tensor([ 2  0 -3 90  8], shape=(5,), dtype=int32)\n"
          ]
        }
      ]
    },
    {
      "cell_type": "code",
      "source": [
        "tensor_two_d = tf.constant([\n",
        "    [1, 2, 0],\n",
        "    [3, 5 ,-1],\n",
        "    [1, 5, 6],\n",
        "    [2, 3, 8]\n",
        "])\n",
        "print(tensor_two_d)"
      ],
      "metadata": {
        "colab": {
          "base_uri": "https://localhost:8080/"
        },
        "id": "22lMyvX3Phps",
        "outputId": "b2ec86cf-93aa-42d1-98c5-35383fe0f53b"
      },
      "execution_count": null,
      "outputs": [
        {
          "output_type": "stream",
          "name": "stdout",
          "text": [
            "tf.Tensor(\n",
            "[[ 1  2  0]\n",
            " [ 3  5 -1]\n",
            " [ 1  5  6]\n",
            " [ 2  3  8]], shape=(4, 3), dtype=int32)\n"
          ]
        }
      ]
    },
    {
      "cell_type": "code",
      "source": [
        "tensor_three_d = tf.constant([\n",
        "    [\n",
        "        [1, 2, 0],\n",
        "        [3, 5, -1]\n",
        "    ],\n",
        "    [\n",
        "        [10, 2, 0],\n",
        "        [1, 0, 2]\n",
        "    ],\n",
        "    [\n",
        "      [5, 8, 0],\n",
        "      [2, 7, 0]  \n",
        "    ],\n",
        "    [\n",
        "        [2, 1, 9],\n",
        "        [4, -3, 32]\n",
        "    ]\n",
        "])\n",
        "print(tensor_three_d)"
      ],
      "metadata": {
        "colab": {
          "base_uri": "https://localhost:8080/"
        },
        "id": "iuLeC9ZbP4yj",
        "outputId": "d743a0e1-a1ae-41a1-db63-8dea630ea83b"
      },
      "execution_count": null,
      "outputs": [
        {
          "output_type": "stream",
          "name": "stdout",
          "text": [
            "tf.Tensor(\n",
            "[[[ 1  2  0]\n",
            "  [ 3  5 -1]]\n",
            "\n",
            " [[10  2  0]\n",
            "  [ 1  0  2]]\n",
            "\n",
            " [[ 5  8  0]\n",
            "  [ 2  7  0]]\n",
            "\n",
            " [[ 2  1  9]\n",
            "  [ 4 -3 32]]], shape=(4, 2, 3), dtype=int32)\n"
          ]
        }
      ]
    },
    {
      "cell_type": "code",
      "source": [
        "print('Shape:', tensor_three_d.shape)\n",
        "print('Dimensions:', tensor_three_d.ndim)"
      ],
      "metadata": {
        "colab": {
          "base_uri": "https://localhost:8080/"
        },
        "id": "W8KfoAqWQzs0",
        "outputId": "c166c6d5-536e-45c5-8fb1-81d5450d9a2f"
      },
      "execution_count": null,
      "outputs": [
        {
          "output_type": "stream",
          "name": "stdout",
          "text": [
            "Shape: (4, 2, 3)\n",
            "Dimensions: 3\n"
          ]
        }
      ]
    },
    {
      "cell_type": "code",
      "source": [
        "tensor_four_d = tf.constant([\n",
        "[\n",
        "    [\n",
        "        [1, 2, 0],\n",
        "        [3, 5, -1]\n",
        "    ],\n",
        "    [\n",
        "        [10, 2, 0],\n",
        "        [1, 0, 2]\n",
        "    ],\n",
        "    [\n",
        "      [5, 8, 0],\n",
        "      [2, 7, 0]  \n",
        "    ],\n",
        "    [\n",
        "        [2, 1, 9],\n",
        "        [4, -3, 32]\n",
        "    ]\n",
        "],[\n",
        "    [\n",
        "        [1, 9, 0],\n",
        "        [11, -5, 4]\n",
        "    ],\n",
        "    [\n",
        "        [14, 2, 0],\n",
        "        [1, 0, 2]\n",
        "    ],\n",
        "    [\n",
        "      [5, 8, 0],\n",
        "      [2, 7, 0]  \n",
        "    ],\n",
        "    [\n",
        "        [2, 22, 9],\n",
        "        [4, -3, 17]\n",
        "    ]\n",
        "],[\n",
        "[\n",
        "        [1, 2, 0],\n",
        "        [3, 5, -1]\n",
        "    ],\n",
        "    [\n",
        "        [10, 2, 0],\n",
        "        [1, 0, 2]\n",
        "    ],\n",
        "    [\n",
        "      [5, 8, 0],\n",
        "      [2, 7, 0]  \n",
        "    ],\n",
        "    [\n",
        "        [2, 1, 9],\n",
        "        [4, -3, 32]\n",
        "    ]\n",
        "]])\n",
        "\n",
        "print(tensor_four_d)"
      ],
      "metadata": {
        "colab": {
          "base_uri": "https://localhost:8080/"
        },
        "id": "0oinXM2bSGr_",
        "outputId": "b9d6b799-1904-4441-f0c2-0985b62192cb"
      },
      "execution_count": null,
      "outputs": [
        {
          "output_type": "stream",
          "name": "stdout",
          "text": [
            "tf.Tensor(\n",
            "[[[[ 1  2  0]\n",
            "   [ 3  5 -1]]\n",
            "\n",
            "  [[10  2  0]\n",
            "   [ 1  0  2]]\n",
            "\n",
            "  [[ 5  8  0]\n",
            "   [ 2  7  0]]\n",
            "\n",
            "  [[ 2  1  9]\n",
            "   [ 4 -3 32]]]\n",
            "\n",
            "\n",
            " [[[ 1  9  0]\n",
            "   [11 -5  4]]\n",
            "\n",
            "  [[14  2  0]\n",
            "   [ 1  0  2]]\n",
            "\n",
            "  [[ 5  8  0]\n",
            "   [ 2  7  0]]\n",
            "\n",
            "  [[ 2 22  9]\n",
            "   [ 4 -3 17]]]\n",
            "\n",
            "\n",
            " [[[ 1  2  0]\n",
            "   [ 3  5 -1]]\n",
            "\n",
            "  [[10  2  0]\n",
            "   [ 1  0  2]]\n",
            "\n",
            "  [[ 5  8  0]\n",
            "   [ 2  7  0]]\n",
            "\n",
            "  [[ 2  1  9]\n",
            "   [ 4 -3 32]]]], shape=(3, 4, 2, 3), dtype=int32)\n"
          ]
        }
      ]
    },
    {
      "cell_type": "code",
      "source": [
        "print('tensor_four_d details')\n",
        "print('Shape:', tensor_four_d.shape)\n",
        "print('Dimensions:', tensor_four_d.ndim)"
      ],
      "metadata": {
        "colab": {
          "base_uri": "https://localhost:8080/"
        },
        "id": "-deIxEPvT03z",
        "outputId": "5e7ee5f9-d9a6-4ec7-bbc4-7efa5b323eeb"
      },
      "execution_count": null,
      "outputs": [
        {
          "output_type": "stream",
          "name": "stdout",
          "text": [
            "tensor_four_d details\n",
            "Shape: (3, 4, 2, 3)\n",
            "Dimensions: 4\n"
          ]
        }
      ]
    },
    {
      "cell_type": "markdown",
      "source": [
        "# Tensor data types\n",
        "Casting a tensor to change it's data type   \n",
        "Bool tensor   \n",
        "String tensor\n"
      ],
      "metadata": {
        "id": "sMDYACBXWKs5"
      }
    },
    {
      "cell_type": "code",
      "source": [
        "tnsr_one_d=tf.constant([ 2,  0., -3, 90,  8], dtype=tf.float32)\n",
        "casted_tnsr_one_d = tf.cast(tnsr_one_d, dtype=tf.int16)\n",
        "casted_tnsr_one_d_to_bool = tf.cast(tnsr_one_d, dtype=tf.bool)\n",
        "tnsr_one_d_str = tf.constant([\"hellow world\", \"hi\"])\n",
        "\n",
        "print('tnsr_one_d:\\n', tnsr_one_d)\n",
        "print()\n",
        "print('casted_tnsr_one_d:\\n', casted_tnsr_one_d)\n",
        "print()\n",
        "print('casted_tnsr_one_d_to_bool:\\n', casted_tnsr_one_d_to_bool)\n",
        "print()\n",
        "print('tnsr_one_d_str:\\n', tnsr_one_d_str)"
      ],
      "metadata": {
        "colab": {
          "base_uri": "https://localhost:8080/"
        },
        "id": "vGT4AC2YVQEp",
        "outputId": "0d5812c9-645d-40ba-cb34-8736d05f5a3c"
      },
      "execution_count": null,
      "outputs": [
        {
          "output_type": "stream",
          "name": "stdout",
          "text": [
            "tnsr_one_d:\n",
            " tf.Tensor([ 2.  0. -3. 90.  8.], shape=(5,), dtype=float32)\n",
            "\n",
            "casted_tnsr_one_d:\n",
            " tf.Tensor([ 2  0 -3 90  8], shape=(5,), dtype=int16)\n",
            "\n",
            "casted_tnsr_one_d_to_bool:\n",
            " tf.Tensor([ True False  True  True  True], shape=(5,), dtype=bool)\n",
            "\n",
            "tnsr_one_d_str:\n",
            " tf.Tensor([b'hellow world' b'hi'], shape=(2,), dtype=string)\n"
          ]
        }
      ]
    },
    {
      "cell_type": "code",
      "source": [
        "np_array = np.array([1, 2, 5])\n",
        "print(np_array)"
      ],
      "metadata": {
        "colab": {
          "base_uri": "https://localhost:8080/"
        },
        "id": "VIbuY0LoXrRN",
        "outputId": "f8cf8306-4a97-49ba-8960-07fc589a12fa"
      },
      "execution_count": null,
      "outputs": [
        {
          "output_type": "stream",
          "name": "stdout",
          "text": [
            "[1 2 5]\n"
          ]
        }
      ]
    },
    {
      "cell_type": "code",
      "source": [
        "converted_tensor = tf.cast(np_array, dtype=tf.int32)\n",
        "print(converted_tensor)"
      ],
      "metadata": {
        "colab": {
          "base_uri": "https://localhost:8080/"
        },
        "id": "b9iZwG2kX5G8",
        "outputId": "be4e75e9-0858-4176-a1df-78cebed51981"
      },
      "execution_count": null,
      "outputs": [
        {
          "output_type": "stream",
          "name": "stdout",
          "text": [
            "tf.Tensor([1 2 5], shape=(3,), dtype=int32)\n"
          ]
        }
      ]
    },
    {
      "cell_type": "markdown",
      "source": [
        "# Methods"
      ],
      "metadata": {
        "id": "9Onhhn_IbU_9"
      }
    },
    {
      "cell_type": "markdown",
      "source": [
        "## eye - Identity Matrix\n",
        "All elements are 0 (zero), except for the leading diagonal, populated by 1.   \n",
        "Math operations can be used to modify the output of the leading diagonal.   \n",
        "Changing the parameters of the method gives different tensor shapes as an output."
      ],
      "metadata": {
        "id": "ODMPwgGsYiHn"
      }
    },
    {
      "cell_type": "code",
      "source": [
        "eye_tensor = tf.eye(\n",
        "    num_rows=3,\n",
        "    num_columns=None,\n",
        "    batch_shape=[2,],\n",
        "    dtype=tf.dtypes.float32,\n",
        "    name=None\n",
        ")\n",
        "print(eye_tensor)"
      ],
      "metadata": {
        "colab": {
          "base_uri": "https://localhost:8080/"
        },
        "id": "0EteHjO9Yqud",
        "outputId": "579bc56a-4f71-4706-a7c5-b71470845639"
      },
      "execution_count": null,
      "outputs": [
        {
          "output_type": "stream",
          "name": "stdout",
          "text": [
            "tf.Tensor(\n",
            "[[[1. 0. 0.]\n",
            "  [0. 1. 0.]\n",
            "  [0. 0. 1.]]\n",
            "\n",
            " [[1. 0. 0.]\n",
            "  [0. 1. 0.]\n",
            "  [0. 0. 1.]]], shape=(2, 3, 3), dtype=float32)\n"
          ]
        }
      ]
    },
    {
      "cell_type": "markdown",
      "source": [
        "## fill   \n",
        "Creates a tensor filled with a scalar value.   \n",
        "tf.fill(dims, value, name=None)"
      ],
      "metadata": {
        "id": "g4m4qbgeDws8"
      }
    },
    {
      "cell_type": "code",
      "source": [
        "fill_tensor = tf.fill(\n",
        "    [3, 4], 5, name=None\n",
        ")\n",
        "print(fill_tensor)"
      ],
      "metadata": {
        "colab": {
          "base_uri": "https://localhost:8080/"
        },
        "id": "p3v4JGIXDCxY",
        "outputId": "65e31a4f-f2c7-4088-925b-b0240a0c4c76"
      },
      "execution_count": 3,
      "outputs": [
        {
          "output_type": "stream",
          "name": "stdout",
          "text": [
            "tf.Tensor(\n",
            "[[5 5 5 5]\n",
            " [5 5 5 5]\n",
            " [5 5 5 5]], shape=(3, 4), dtype=int32)\n"
          ]
        }
      ]
    },
    {
      "cell_type": "markdown",
      "source": [
        "## ones   \n",
        "Creates a tensor with all elements set to one (1)"
      ],
      "metadata": {
        "id": "Ru2ALbsbEcIp"
      }
    },
    {
      "cell_type": "code",
      "source": [
        "ones_tensor = tf.ones(\n",
        "    [5, 3, 2], \n",
        "    dtype=tf.dtypes.float32,\n",
        "    name=None\n",
        ")\n",
        "print(ones_tensor)"
      ],
      "metadata": {
        "colab": {
          "base_uri": "https://localhost:8080/"
        },
        "id": "OXmrRjzlEofk",
        "outputId": "22a283fd-f427-4943-ffbe-2b32357dd45d"
      },
      "execution_count": 6,
      "outputs": [
        {
          "output_type": "stream",
          "name": "stdout",
          "text": [
            "tf.Tensor(\n",
            "[[[1. 1.]\n",
            "  [1. 1.]\n",
            "  [1. 1.]]\n",
            "\n",
            " [[1. 1.]\n",
            "  [1. 1.]\n",
            "  [1. 1.]]\n",
            "\n",
            " [[1. 1.]\n",
            "  [1. 1.]\n",
            "  [1. 1.]]\n",
            "\n",
            " [[1. 1.]\n",
            "  [1. 1.]\n",
            "  [1. 1.]]\n",
            "\n",
            " [[1. 1.]\n",
            "  [1. 1.]\n",
            "  [1. 1.]]], shape=(5, 3, 2), dtype=float32)\n"
          ]
        }
      ]
    },
    {
      "cell_type": "markdown",
      "source": [
        "## ones_like   \n",
        "Creates a tensor that has the same shape as the input."
      ],
      "metadata": {
        "id": "5iguEJmBFPvH"
      }
    },
    {
      "cell_type": "code",
      "source": [
        "onelike_tensor = tf.ones_like(fill_tensor)\n",
        "print(onelike_tensor)"
      ],
      "metadata": {
        "colab": {
          "base_uri": "https://localhost:8080/"
        },
        "id": "HURsESVFFPEf",
        "outputId": "bf5ceab8-c4b0-4363-9208-5d8a2af39f9b"
      },
      "execution_count": 7,
      "outputs": [
        {
          "output_type": "stream",
          "name": "stdout",
          "text": [
            "tf.Tensor(\n",
            "[[1 1 1 1]\n",
            " [1 1 1 1]\n",
            " [1 1 1 1]], shape=(3, 4), dtype=int32)\n"
          ]
        }
      ]
    },
    {
      "cell_type": "markdown",
      "source": [
        "## zeros   \n",
        "Creates a tensor with all elements set to zero (0)"
      ],
      "metadata": {
        "id": "-xkLG2dtGcPd"
      }
    },
    {
      "cell_type": "code",
      "source": [
        "zeros_tensor = tf.zeros(\n",
        "    [5, 3, 2], \n",
        "    dtype=tf.dtypes.float32,\n",
        "    name=None\n",
        ")\n",
        "print(zeros_tensor)"
      ],
      "metadata": {
        "colab": {
          "base_uri": "https://localhost:8080/"
        },
        "id": "F3zSl2ATGbad",
        "outputId": "f2f1ee78-455f-4e5c-a851-8381edc4adf3"
      },
      "execution_count": 8,
      "outputs": [
        {
          "output_type": "stream",
          "name": "stdout",
          "text": [
            "tf.Tensor(\n",
            "[[[0. 0.]\n",
            "  [0. 0.]\n",
            "  [0. 0.]]\n",
            "\n",
            " [[0. 0.]\n",
            "  [0. 0.]\n",
            "  [0. 0.]]\n",
            "\n",
            " [[0. 0.]\n",
            "  [0. 0.]\n",
            "  [0. 0.]]\n",
            "\n",
            " [[0. 0.]\n",
            "  [0. 0.]\n",
            "  [0. 0.]]\n",
            "\n",
            " [[0. 0.]\n",
            "  [0. 0.]\n",
            "  [0. 0.]]], shape=(5, 3, 2), dtype=float32)\n"
          ]
        }
      ]
    },
    {
      "cell_type": "markdown",
      "source": [
        "## rank   "
      ],
      "metadata": {
        "id": "9dWgibVpG_vL"
      }
    },
    {
      "cell_type": "code",
      "source": [
        "t = tf.constant([[1, 1, 1], [2, 2, 2], [3, 3, 3]])\n",
        "print(tf.rank(t))"
      ],
      "metadata": {
        "colab": {
          "base_uri": "https://localhost:8080/"
        },
        "id": "fSg-2bQfG26R",
        "outputId": "bbcb3535-fb2a-4396-c8f5-740632e8bfbc"
      },
      "execution_count": 17,
      "outputs": [
        {
          "output_type": "stream",
          "name": "stdout",
          "text": [
            "tf.Tensor(2, shape=(), dtype=int32)\n"
          ]
        }
      ]
    },
    {
      "cell_type": "markdown",
      "source": [
        "## size   \n",
        "Returns a 0-D tensor (scalar) that represents the number of elements in input, of type out_type (default=tf.int32)."
      ],
      "metadata": {
        "id": "NeXBUBTsHXLC"
      }
    },
    {
      "cell_type": "code",
      "source": [
        "s = tf.size(t)\n",
        "print(s)"
      ],
      "metadata": {
        "colab": {
          "base_uri": "https://localhost:8080/"
        },
        "id": "pVhSirLRHZcw",
        "outputId": "46a16bc5-5159-4ced-ab87-937f4658dbca"
      },
      "execution_count": 20,
      "outputs": [
        {
          "output_type": "stream",
          "name": "stdout",
          "text": [
            "tf.Tensor(9, shape=(), dtype=int32)\n"
          ]
        }
      ]
    },
    {
      "cell_type": "markdown",
      "source": [
        "## tf.random\n",
        "Ouputs values from a normal distribution."
      ],
      "metadata": {
        "id": "R_YyuW0_LBA9"
      }
    },
    {
      "cell_type": "code",
      "source": [
        "random_tensor = tf.random.normal(\n",
        "    [3, 2],\n",
        "    mean=1.0,\n",
        "    stddev=1.0,\n",
        "    dtype=tf.dtypes.float32,\n",
        "    seed=None,\n",
        "    name=None\n",
        ")\n",
        "print(random_tensor)"
      ],
      "metadata": {
        "colab": {
          "base_uri": "https://localhost:8080/"
        },
        "id": "GafJsy-8LLMV",
        "outputId": "9615d722-df7b-47ad-f4b0-97cc813bf598"
      },
      "execution_count": 27,
      "outputs": [
        {
          "output_type": "stream",
          "name": "stdout",
          "text": [
            "tf.Tensor(\n",
            "[[ 0.5509244   0.95485246]\n",
            " [ 1.3290042  -0.85061705]\n",
            " [ 0.9457597  -0.48064876]], shape=(3, 2), dtype=float32)\n"
          ]
        }
      ]
    },
    {
      "cell_type": "code",
      "source": [
        "rand_uni_tensor = tf.random.uniform(\n",
        "    [5,],\n",
        "    minval=0,\n",
        "    maxval=None,\n",
        "    dtype=tf.dtypes.float32,\n",
        "    seed=None,\n",
        "    name=None\n",
        ")\n",
        "print(rand_uni_tensor)"
      ],
      "metadata": {
        "colab": {
          "base_uri": "https://localhost:8080/"
        },
        "id": "gFoIcctaL82p",
        "outputId": "33407e3c-c436-4d87-c5b5-c98970fc8d1a"
      },
      "execution_count": 34,
      "outputs": [
        {
          "output_type": "stream",
          "name": "stdout",
          "text": [
            "tf.Tensor([0.65683377 0.05816972 0.08179736 0.37256396 0.34247458], shape=(5,), dtype=float32)\n"
          ]
        }
      ]
    },
    {
      "cell_type": "markdown",
      "source": [
        "# Initialization and casting indexing\n",
        "1:07:40"
      ],
      "metadata": {
        "id": "ZU5iKI-WPSAx"
      }
    },
    {
      "cell_type": "code",
      "source": [],
      "metadata": {
        "id": "T7MkzXhZPRLC"
      },
      "execution_count": null,
      "outputs": []
    }
  ]
}